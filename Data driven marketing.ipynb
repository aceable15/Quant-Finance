{
 "cells": [
  {
   "cell_type": "code",
   "execution_count": 9,
   "id": "a8a9c458",
   "metadata": {},
   "outputs": [
    {
     "name": "stdout",
     "output_type": "stream",
     "text": [
      "Collecting xlrd\n",
      "  Downloading xlrd-2.0.1-py2.py3-none-any.whl (96 kB)\n",
      "     ---------------------------------------- 0.0/96.5 kB ? eta -:--:--\n",
      "     ---- ----------------------------------- 10.2/96.5 kB ? eta -:--:--\n",
      "     ------------ ------------------------- 30.7/96.5 kB 435.7 kB/s eta 0:00:01\n",
      "     ------------------------ ------------- 61.4/96.5 kB 656.4 kB/s eta 0:00:01\n",
      "     ------------------------------------ - 92.2/96.5 kB 871.5 kB/s eta 0:00:01\n",
      "     -------------------------------------- 96.5/96.5 kB 553.1 kB/s eta 0:00:00\n",
      "Installing collected packages: xlrd\n",
      "Successfully installed xlrd-2.0.1\n",
      "Note: you may need to restart the kernel to use updated packages.\n"
     ]
    }
   ],
   "source": [
    "pip install xlrd"
   ]
  },
  {
   "cell_type": "code",
   "execution_count": 34,
   "id": "9c43710b",
   "metadata": {},
   "outputs": [],
   "source": [
    "import numpy as np\n",
    "import pandas as pd\n",
    "import matplotlib.pyplot as plt\n",
    "from sklearn.linear_model import LinearRegression\n",
    "import statsmodels.api as sm"
   ]
  },
  {
   "cell_type": "code",
   "execution_count": 5,
   "id": "7a42227f",
   "metadata": {},
   "outputs": [],
   "source": [
    "df = pd.read_excel('Assignment_Pricing_Data (1).xls')"
   ]
  },
  {
   "cell_type": "code",
   "execution_count": 22,
   "id": "f7730ed6",
   "metadata": {},
   "outputs": [
    {
     "data": {
      "text/html": [
       "<div>\n",
       "<style scoped>\n",
       "    .dataframe tbody tr th:only-of-type {\n",
       "        vertical-align: middle;\n",
       "    }\n",
       "\n",
       "    .dataframe tbody tr th {\n",
       "        vertical-align: top;\n",
       "    }\n",
       "\n",
       "    .dataframe thead th {\n",
       "        text-align: right;\n",
       "    }\n",
       "</style>\n",
       "<table border=\"1\" class=\"dataframe\">\n",
       "  <thead>\n",
       "    <tr style=\"text-align: right;\">\n",
       "      <th></th>\n",
       "      <th>Week</th>\n",
       "      <th>Price per unit at retail</th>\n",
       "      <th>Sales (in Cases)</th>\n",
       "      <th>Cost (per Case) to the Retailer</th>\n",
       "      <th>Price per unit at retail.1</th>\n",
       "      <th>Sales (in Cases).1</th>\n",
       "      <th>Cost (per Case) to the Retailer.1</th>\n",
       "      <th>Cost of Manufacturing Brand 1 (per case)</th>\n",
       "    </tr>\n",
       "  </thead>\n",
       "  <tbody>\n",
       "    <tr>\n",
       "      <th>0</th>\n",
       "      <td>1.0</td>\n",
       "      <td>2.39</td>\n",
       "      <td>183.126978</td>\n",
       "      <td>45.3144</td>\n",
       "      <td>2.69</td>\n",
       "      <td>130.295360</td>\n",
       "      <td>53.5848</td>\n",
       "      <td>29.47164</td>\n",
       "    </tr>\n",
       "    <tr>\n",
       "      <th>1</th>\n",
       "      <td>2.0</td>\n",
       "      <td>2.39</td>\n",
       "      <td>165.193486</td>\n",
       "      <td>45.3144</td>\n",
       "      <td>2.69</td>\n",
       "      <td>109.876781</td>\n",
       "      <td>53.5848</td>\n",
       "      <td>29.47164</td>\n",
       "    </tr>\n",
       "    <tr>\n",
       "      <th>2</th>\n",
       "      <td>3.0</td>\n",
       "      <td>2.39</td>\n",
       "      <td>149.909541</td>\n",
       "      <td>45.3144</td>\n",
       "      <td>2.69</td>\n",
       "      <td>127.804141</td>\n",
       "      <td>53.5848</td>\n",
       "      <td>29.47164</td>\n",
       "    </tr>\n",
       "    <tr>\n",
       "      <th>3</th>\n",
       "      <td>4.0</td>\n",
       "      <td>2.39</td>\n",
       "      <td>168.651042</td>\n",
       "      <td>45.3144</td>\n",
       "      <td>2.69</td>\n",
       "      <td>139.901887</td>\n",
       "      <td>53.5848</td>\n",
       "      <td>29.47164</td>\n",
       "    </tr>\n",
       "    <tr>\n",
       "      <th>4</th>\n",
       "      <td>5.0</td>\n",
       "      <td>2.39</td>\n",
       "      <td>157.010702</td>\n",
       "      <td>45.3144</td>\n",
       "      <td>2.69</td>\n",
       "      <td>120.588447</td>\n",
       "      <td>53.5848</td>\n",
       "      <td>29.47164</td>\n",
       "    </tr>\n",
       "  </tbody>\n",
       "</table>\n",
       "</div>"
      ],
      "text/plain": [
       "   Week  Price per unit at retail  Sales (in Cases)  \\\n",
       "0   1.0                      2.39        183.126978   \n",
       "1   2.0                      2.39        165.193486   \n",
       "2   3.0                      2.39        149.909541   \n",
       "3   4.0                      2.39        168.651042   \n",
       "4   5.0                      2.39        157.010702   \n",
       "\n",
       "  Cost (per Case) to the Retailer  Price per unit at retail.1  \\\n",
       "0                         45.3144                        2.69   \n",
       "1                         45.3144                        2.69   \n",
       "2                         45.3144                        2.69   \n",
       "3                         45.3144                        2.69   \n",
       "4                         45.3144                        2.69   \n",
       "\n",
       "   Sales (in Cases).1  Cost (per Case) to the Retailer.1  \\\n",
       "0          130.295360                            53.5848   \n",
       "1          109.876781                            53.5848   \n",
       "2          127.804141                            53.5848   \n",
       "3          139.901887                            53.5848   \n",
       "4          120.588447                            53.5848   \n",
       "\n",
       "   Cost of Manufacturing Brand 1 (per case)   \n",
       "0                                   29.47164  \n",
       "1                                   29.47164  \n",
       "2                                   29.47164  \n",
       "3                                   29.47164  \n",
       "4                                   29.47164  "
      ]
     },
     "execution_count": 22,
     "metadata": {},
     "output_type": "execute_result"
    }
   ],
   "source": [
    "df.head()"
   ]
  },
  {
   "cell_type": "markdown",
   "id": "03ebab72",
   "metadata": {},
   "source": [
    "### Report the (simple) average retail price per unit of each brand. Compute the $ price gap between the brands at the average prices."
   ]
  },
  {
   "cell_type": "code",
   "execution_count": 10,
   "id": "e637b162",
   "metadata": {},
   "outputs": [
    {
     "data": {
      "text/plain": [
       "2.153461538461538"
      ]
     },
     "execution_count": 10,
     "metadata": {},
     "output_type": "execute_result"
    }
   ],
   "source": [
    "average_retail_price_private_label = df['Price per unit at retail'].mean()\n",
    "average_retail_price_private_label"
   ]
  },
  {
   "cell_type": "code",
   "execution_count": 12,
   "id": "9bd17810",
   "metadata": {},
   "outputs": [
    {
     "data": {
      "text/plain": [
       "2.611153846153847"
      ]
     },
     "execution_count": 12,
     "metadata": {},
     "output_type": "execute_result"
    }
   ],
   "source": [
    "average_retail_price_brand_1 = df['Price per unit at retail.1'].mean()\n",
    "average_retail_price_brand_1"
   ]
  },
  {
   "cell_type": "markdown",
   "id": "836b56d9",
   "metadata": {},
   "source": [
    "### Report the average weekly % retail margin of each brand.  "
   ]
  },
  {
   "cell_type": "code",
   "execution_count": 16,
   "id": "6526c42b",
   "metadata": {},
   "outputs": [
    {
     "data": {
      "text/plain": [
       "9712.604485715816"
      ]
     },
     "execution_count": 16,
     "metadata": {},
     "output_type": "execute_result"
    }
   ],
   "source": [
    "average_weekly_margin_private_label = (df['Price per unit at retail'] * 24 * df['Sales (in Cases)']-df['Cost (per Case) to the Retailer']).mean()\n",
    "average_weekly_margin_private_label"
   ]
  },
  {
   "cell_type": "code",
   "execution_count": 17,
   "id": "b5be6861",
   "metadata": {},
   "outputs": [
    {
     "data": {
      "text/plain": [
       "8317.981114257855"
      ]
     },
     "execution_count": 17,
     "metadata": {},
     "output_type": "execute_result"
    }
   ],
   "source": [
    "average_weekly_margin_brand_1 = (df['Price per unit at retail.1'] * 24 * df['Sales (in Cases).1']-df['Cost (per Case) to the Retailer.1']).mean()\n",
    "average_weekly_margin_brand_1"
   ]
  },
  {
   "cell_type": "markdown",
   "id": "d09368c7",
   "metadata": {},
   "source": [
    "### Report the average weekly unit sales of each brand."
   ]
  },
  {
   "cell_type": "code",
   "execution_count": 20,
   "id": "28825371",
   "metadata": {},
   "outputs": [
    {
     "data": {
      "text/plain": [
       "4544.863259056899"
      ]
     },
     "execution_count": 20,
     "metadata": {},
     "output_type": "execute_result"
    }
   ],
   "source": [
    "average_weekly_unit_sales_private_label = (df['Sales (in Cases)'] * 24).mean()\n",
    "average_weekly_unit_sales_private_label"
   ]
  },
  {
   "cell_type": "code",
   "execution_count": 21,
   "id": "7c5ede46",
   "metadata": {},
   "outputs": [
    {
     "data": {
      "text/plain": [
       "3220.8191314758055"
      ]
     },
     "execution_count": 21,
     "metadata": {},
     "output_type": "execute_result"
    }
   ],
   "source": [
    "average_weekly_unit_sales_brand_1 = (df['Sales (in Cases).1'] * 24).mean()\n",
    "average_weekly_unit_sales_brand_1"
   ]
  },
  {
   "cell_type": "markdown",
   "id": "11dfe10a",
   "metadata": {},
   "source": [
    "### Report the average weekly market share of the two brands (within this retail account) based on unit sales. Assume the category consists of these two brands only."
   ]
  },
  {
   "cell_type": "code",
   "execution_count": 23,
   "id": "f1eb40d5",
   "metadata": {},
   "outputs": [
    {
     "data": {
      "text/plain": [
       "0.5852496960985207"
      ]
     },
     "execution_count": 23,
     "metadata": {},
     "output_type": "execute_result"
    }
   ],
   "source": [
    "average_weekly_market_share_private_label = average_weekly_unit_sales_private_label / (average_weekly_unit_sales_private_label+average_weekly_unit_sales_brand_1)\n",
    "average_weekly_market_share_private_label"
   ]
  },
  {
   "cell_type": "code",
   "execution_count": 24,
   "id": "ef356074",
   "metadata": {},
   "outputs": [
    {
     "data": {
      "text/plain": [
       "0.4147503039014794"
      ]
     },
     "execution_count": 24,
     "metadata": {},
     "output_type": "execute_result"
    }
   ],
   "source": [
    "average_weekly_market_share_brand_1 = average_weekly_unit_sales_brand_1 / (average_weekly_unit_sales_brand_1+average_weekly_unit_sales_private_label)\n",
    "average_weekly_market_share_brand_1"
   ]
  },
  {
   "cell_type": "markdown",
   "id": "5700a937",
   "metadata": {},
   "source": [
    "### Report the average weekly profits (in $) of the retailer and the manufacturer. Remember that the retailer gets profits from selling brand 1 and the private label"
   ]
  },
  {
   "cell_type": "code",
   "execution_count": null,
   "id": "c55a358b",
   "metadata": {},
   "outputs": [],
   "source": []
  },
  {
   "cell_type": "markdown",
   "id": "407bd28c",
   "metadata": {},
   "source": [
    "### Q2: Determine the variables that should be included in the marketing mix models (one model each for brand 1 and the private label).  Estimate the models. Use the semi-log (or exponential) form of the model. Show the regression outputs. Note: DO NOT include a trend variable in the model. DO NOT include or control for seasonality in the model."
   ]
  },
  {
   "cell_type": "code",
   "execution_count": 35,
   "id": "fa77d074",
   "metadata": {},
   "outputs": [],
   "source": [
    "df_brand1 = df[['Price per unit at retail', 'Sales (in Cases)']].dropna()\n",
    "X_brand1 = df_brand1[['Price per unit at retail']]\n",
    "y_brand1 = np.log(df_brand1['Sales (in Cases)'])"
   ]
  },
  {
   "cell_type": "code",
   "execution_count": 36,
   "id": "f13526f6",
   "metadata": {},
   "outputs": [],
   "source": [
    "df_private_label = df[['Price per unit at retail.1', 'Sales (in Cases).1']].dropna()\n",
    "X_private_label = df_private_label[['Price per unit at retail.1']]\n",
    "y_private_label = np.log(df_private_label['Sales (in Cases).1'])"
   ]
  },
  {
   "cell_type": "code",
   "execution_count": 37,
   "id": "2cf2adca",
   "metadata": {},
   "outputs": [
    {
     "data": {
      "text/html": [
       "<style>#sk-container-id-1 {color: black;}#sk-container-id-1 pre{padding: 0;}#sk-container-id-1 div.sk-toggleable {background-color: white;}#sk-container-id-1 label.sk-toggleable__label {cursor: pointer;display: block;width: 100%;margin-bottom: 0;padding: 0.3em;box-sizing: border-box;text-align: center;}#sk-container-id-1 label.sk-toggleable__label-arrow:before {content: \"▸\";float: left;margin-right: 0.25em;color: #696969;}#sk-container-id-1 label.sk-toggleable__label-arrow:hover:before {color: black;}#sk-container-id-1 div.sk-estimator:hover label.sk-toggleable__label-arrow:before {color: black;}#sk-container-id-1 div.sk-toggleable__content {max-height: 0;max-width: 0;overflow: hidden;text-align: left;background-color: #f0f8ff;}#sk-container-id-1 div.sk-toggleable__content pre {margin: 0.2em;color: black;border-radius: 0.25em;background-color: #f0f8ff;}#sk-container-id-1 input.sk-toggleable__control:checked~div.sk-toggleable__content {max-height: 200px;max-width: 100%;overflow: auto;}#sk-container-id-1 input.sk-toggleable__control:checked~label.sk-toggleable__label-arrow:before {content: \"▾\";}#sk-container-id-1 div.sk-estimator input.sk-toggleable__control:checked~label.sk-toggleable__label {background-color: #d4ebff;}#sk-container-id-1 div.sk-label input.sk-toggleable__control:checked~label.sk-toggleable__label {background-color: #d4ebff;}#sk-container-id-1 input.sk-hidden--visually {border: 0;clip: rect(1px 1px 1px 1px);clip: rect(1px, 1px, 1px, 1px);height: 1px;margin: -1px;overflow: hidden;padding: 0;position: absolute;width: 1px;}#sk-container-id-1 div.sk-estimator {font-family: monospace;background-color: #f0f8ff;border: 1px dotted black;border-radius: 0.25em;box-sizing: border-box;margin-bottom: 0.5em;}#sk-container-id-1 div.sk-estimator:hover {background-color: #d4ebff;}#sk-container-id-1 div.sk-parallel-item::after {content: \"\";width: 100%;border-bottom: 1px solid gray;flex-grow: 1;}#sk-container-id-1 div.sk-label:hover label.sk-toggleable__label {background-color: #d4ebff;}#sk-container-id-1 div.sk-serial::before {content: \"\";position: absolute;border-left: 1px solid gray;box-sizing: border-box;top: 0;bottom: 0;left: 50%;z-index: 0;}#sk-container-id-1 div.sk-serial {display: flex;flex-direction: column;align-items: center;background-color: white;padding-right: 0.2em;padding-left: 0.2em;position: relative;}#sk-container-id-1 div.sk-item {position: relative;z-index: 1;}#sk-container-id-1 div.sk-parallel {display: flex;align-items: stretch;justify-content: center;background-color: white;position: relative;}#sk-container-id-1 div.sk-item::before, #sk-container-id-1 div.sk-parallel-item::before {content: \"\";position: absolute;border-left: 1px solid gray;box-sizing: border-box;top: 0;bottom: 0;left: 50%;z-index: -1;}#sk-container-id-1 div.sk-parallel-item {display: flex;flex-direction: column;z-index: 1;position: relative;background-color: white;}#sk-container-id-1 div.sk-parallel-item:first-child::after {align-self: flex-end;width: 50%;}#sk-container-id-1 div.sk-parallel-item:last-child::after {align-self: flex-start;width: 50%;}#sk-container-id-1 div.sk-parallel-item:only-child::after {width: 0;}#sk-container-id-1 div.sk-dashed-wrapped {border: 1px dashed gray;margin: 0 0.4em 0.5em 0.4em;box-sizing: border-box;padding-bottom: 0.4em;background-color: white;}#sk-container-id-1 div.sk-label label {font-family: monospace;font-weight: bold;display: inline-block;line-height: 1.2em;}#sk-container-id-1 div.sk-label-container {text-align: center;}#sk-container-id-1 div.sk-container {/* jupyter's `normalize.less` sets `[hidden] { display: none; }` but bootstrap.min.css set `[hidden] { display: none !important; }` so we also need the `!important` here to be able to override the default hidden behavior on the sphinx rendered scikit-learn.org. See: https://github.com/scikit-learn/scikit-learn/issues/21755 */display: inline-block !important;position: relative;}#sk-container-id-1 div.sk-text-repr-fallback {display: none;}</style><div id=\"sk-container-id-1\" class=\"sk-top-container\"><div class=\"sk-text-repr-fallback\"><pre>LinearRegression()</pre><b>In a Jupyter environment, please rerun this cell to show the HTML representation or trust the notebook. <br />On GitHub, the HTML representation is unable to render, please try loading this page with nbviewer.org.</b></div><div class=\"sk-container\" hidden><div class=\"sk-item\"><div class=\"sk-estimator sk-toggleable\"><input class=\"sk-toggleable__control sk-hidden--visually\" id=\"sk-estimator-id-1\" type=\"checkbox\" checked><label for=\"sk-estimator-id-1\" class=\"sk-toggleable__label sk-toggleable__label-arrow\">LinearRegression</label><div class=\"sk-toggleable__content\"><pre>LinearRegression()</pre></div></div></div></div></div>"
      ],
      "text/plain": [
       "LinearRegression()"
      ]
     },
     "execution_count": 37,
     "metadata": {},
     "output_type": "execute_result"
    }
   ],
   "source": [
    "model_brand1 = LinearRegression()\n",
    "model_brand1.fit(X_brand1, y_brand1)"
   ]
  },
  {
   "cell_type": "code",
   "execution_count": 38,
   "id": "5d8066d8",
   "metadata": {},
   "outputs": [
    {
     "name": "stdout",
     "output_type": "stream",
     "text": [
      "Brand 1 Model Coefficients:\n",
      "Coefficient (Price Elasticity): -0.6189899811757967\n",
      "Intercept: 6.5687686444045\n"
     ]
    }
   ],
   "source": [
    "print(\"Brand 1 Model Coefficients:\")\n",
    "print(\"Coefficient (Price Elasticity):\", model_brand1.coef_[0])\n",
    "print(\"Intercept:\", model_brand1.intercept_)"
   ]
  },
  {
   "cell_type": "code",
   "execution_count": 40,
   "id": "8261f3cf",
   "metadata": {},
   "outputs": [
    {
     "name": "stdout",
     "output_type": "stream",
     "text": [
      "\n",
      "Brand 1 Detailed Summary:\n",
      "                            OLS Regression Results                            \n",
      "==============================================================================\n",
      "Dep. Variable:       Sales (in Cases)   R-squared:                       0.310\n",
      "Model:                            OLS   Adj. R-squared:                  0.304\n",
      "Method:                 Least Squares   F-statistic:                     45.92\n",
      "Date:                Mon, 13 Nov 2023   Prob (F-statistic):           8.10e-10\n",
      "Time:                        19:40:58   Log-Likelihood:                 87.846\n",
      "No. Observations:                 104   AIC:                            -171.7\n",
      "Df Residuals:                     102   BIC:                            -166.4\n",
      "Df Model:                           1                                         \n",
      "Covariance Type:            nonrobust                                         \n",
      "============================================================================================\n",
      "                               coef    std err          t      P>|t|      [0.025      0.975]\n",
      "--------------------------------------------------------------------------------------------\n",
      "const                        6.5688      0.197     33.349      0.000       6.178       6.959\n",
      "Price per unit at retail    -0.6190      0.091     -6.777      0.000      -0.800      -0.438\n",
      "==============================================================================\n",
      "Omnibus:                        2.487   Durbin-Watson:                   1.935\n",
      "Prob(Omnibus):                  0.288   Jarque-Bera (JB):                1.879\n",
      "Skew:                           0.273   Prob(JB):                        0.391\n",
      "Kurtosis:                       3.368   Cond. No.                         50.1\n",
      "==============================================================================\n",
      "\n",
      "Notes:\n",
      "[1] Standard Errors assume that the covariance matrix of the errors is correctly specified.\n"
     ]
    }
   ],
   "source": [
    "X_brand1_sm = sm.add_constant(X_brand1)\n",
    "model_brand1_sm = sm.OLS(y_brand1, X_brand1_sm).fit()\n",
    "print(\"\\nBrand 1 Detailed Summary:\")\n",
    "print(model_brand1_sm.summary())"
   ]
  },
  {
   "cell_type": "code",
   "execution_count": 41,
   "id": "3f8b03fd",
   "metadata": {},
   "outputs": [
    {
     "name": "stdout",
     "output_type": "stream",
     "text": [
      "\n",
      "Private Label Detailed Summary:\n",
      "                            OLS Regression Results                            \n",
      "==============================================================================\n",
      "Dep. Variable:     Sales (in Cases).1   R-squared:                       0.549\n",
      "Model:                            OLS   Adj. R-squared:                  0.545\n",
      "Method:                 Least Squares   F-statistic:                     124.4\n",
      "Date:                Mon, 13 Nov 2023   Prob (F-statistic):           2.33e-19\n",
      "Time:                        19:41:04   Log-Likelihood:                 56.846\n",
      "No. Observations:                 104   AIC:                            -109.7\n",
      "Df Residuals:                     102   BIC:                            -104.4\n",
      "Df Model:                           1                                         \n",
      "Covariance Type:            nonrobust                                         \n",
      "==============================================================================================\n",
      "                                 coef    std err          t      P>|t|      [0.025      0.975]\n",
      "----------------------------------------------------------------------------------------------\n",
      "const                          9.8237      0.444     22.138      0.000       8.944      10.704\n",
      "Price per unit at retail.1    -1.8942      0.170    -11.152      0.000      -2.231      -1.557\n",
      "==============================================================================\n",
      "Omnibus:                        0.827   Durbin-Watson:                   1.291\n",
      "Prob(Omnibus):                  0.661   Jarque-Bera (JB):                0.853\n",
      "Skew:                           0.035   Prob(JB):                        0.653\n",
      "Kurtosis:                       2.562   Cond. No.                         95.8\n",
      "==============================================================================\n",
      "\n",
      "Notes:\n",
      "[1] Standard Errors assume that the covariance matrix of the errors is correctly specified.\n"
     ]
    }
   ],
   "source": [
    "X_private_label_sm = sm.add_constant(X_private_label)\n",
    "model_private_label_sm = sm.OLS(y_private_label, X_private_label_sm).fit()\n",
    "print(\"\\nPrivate Label Detailed Summary:\")\n",
    "print(model_private_label_sm.summary())"
   ]
  },
  {
   "cell_type": "markdown",
   "id": "ebeb548f",
   "metadata": {},
   "source": [
    "### Q4: In this question you will determine the optimal selling price of the manufacturer using Excel or calculus for an average week. Make reasonable assumptions about manufacturer costs and state them. Remember that the retailer sets the retail price.  Assume that the retailer has margin goals that serve as norms. Please state your assumptions about the retailer clearly. With regard to the competitor’s price, consider the following two scenarios (these reflect our assumptions about how the retailer will price the private label) and provide the optimal selling price of the manufacturer under each scenario separately:"
   ]
  },
  {
   "cell_type": "code",
   "execution_count": 42,
   "id": "14803315",
   "metadata": {},
   "outputs": [],
   "source": [
    "manufacturer_cost = 1.00\n",
    "retailer_margin = 0.30 "
   ]
  },
  {
   "cell_type": "markdown",
   "id": "9a23e843",
   "metadata": {},
   "source": [
    "### Assume that the private label’s retail price is fixed at the average level in the data.  "
   ]
  },
  {
   "cell_type": "code",
   "execution_count": 44,
   "id": "8bc4915d",
   "metadata": {},
   "outputs": [],
   "source": [
    "selling_price_to_retailer_a = average_retail_price_private_label / (1 + retailer_margin)\n",
    "profit_per_unit_a = selling_price_to_retailer_a - manufacturer_cost"
   ]
  },
  {
   "cell_type": "markdown",
   "id": "caa69652",
   "metadata": {},
   "source": [
    "### Assume that the private label’s retail price is always 35 cents below the retail price of brand 1."
   ]
  },
  {
   "cell_type": "code",
   "execution_count": 45,
   "id": "80ea63b1",
   "metadata": {},
   "outputs": [],
   "source": [
    "def calculate_profit_brand1(retail_price_brand1):\n",
    "    selling_price_to_retailer = retail_price_brand1 / (1 + retailer_margin)\n",
    "    profit_per_unit = selling_price_to_retailer - manufacturer_cost\n",
    "    return profit_per_unit"
   ]
  },
  {
   "cell_type": "code",
   "execution_count": 46,
   "id": "864b9c51",
   "metadata": {},
   "outputs": [],
   "source": [
    "potential_retail_prices = np.arange(2.00, 4.00, 0.05)\n",
    "profits = [calculate_profit_brand1(price) for price in potential_retail_prices]\n",
    "optimal_price_index = np.argmax(profits)\n",
    "optimal_retail_price_b = potential_retail_prices[optimal_price_index]\n",
    "max_profit_b = profits[optimal_price_index]"
   ]
  },
  {
   "cell_type": "code",
   "execution_count": 54,
   "id": "b1fc873a",
   "metadata": {},
   "outputs": [],
   "source": [
    "optimal_selling_price_a = selling_price_to_retailer_a\n",
    "max_profit_per_unit_a = profit_per_unit_a\n",
    "optimal_retail_price_b, max_profit_per_unit_b = optimal_retail_price_b, max_profit_b"
   ]
  },
  {
   "cell_type": "code",
   "execution_count": 48,
   "id": "a8237359",
   "metadata": {},
   "outputs": [
    {
     "name": "stdout",
     "output_type": "stream",
     "text": [
      "1.6565088757396447 0.6565088757396447 3.949999999999993 2.038461538461533\n"
     ]
    }
   ],
   "source": [
    "print(optimal_selling_price_a, max_profit_per_unit_a, optimal_retail_price_b, max_profit_per_unit_b)"
   ]
  },
  {
   "cell_type": "markdown",
   "id": "48a41d8e",
   "metadata": {},
   "source": [
    "### Q5: ) In this question you will compute the “implied” values of different variables at the optimal prices in each of scenarios 4(a) and 4(b) and compare them with the current situation.  Fill in the table below for a typical week. Take the retailer’s cost of the private label to be the average cost in the historical data. The last column can be filled in by reproducing your answers to Q1 (d), (e), and (f)."
   ]
  },
  {
   "cell_type": "markdown",
   "id": "10cb1478",
   "metadata": {},
   "source": [
    "### How many units will the retailer sell of each brand?\n",
    "1.Brand 1            2.Private Label"
   ]
  },
  {
   "cell_type": "code",
   "execution_count": 49,
   "id": "093783fa",
   "metadata": {},
   "outputs": [],
   "source": [
    "coef_brand1 = -0.6189899811757961\n",
    "intercept_brand1 = 6.568768644404499\n",
    "coef_private_label = -1.8941798358420774\n",
    "intercept_private_label = 9.823691742997177\n",
    "optimal_selling_price_a = 2.008579881656805 \n",
    "optimal_retail_price_b = 3.949999999999993 "
   ]
  },
  {
   "cell_type": "code",
   "execution_count": 52,
   "id": "76cfb7be",
   "metadata": {},
   "outputs": [],
   "source": [
    "log_sales_brand1_a = intercept_brand1 + coef_brand1 * optimal_selling_price_a\n",
    "sales_volume_brand1_a = np.exp(log_sales_brand1_a)\n",
    "\n",
    "log_sales_private_label_a = intercept_private_label + coef_private_label * average_retail_price_brand_1\n",
    "sales_volume_private_label_a = np.exp(log_sales_private_label_a)"
   ]
  },
  {
   "cell_type": "code",
   "execution_count": 53,
   "id": "ba378e3b",
   "metadata": {},
   "outputs": [],
   "source": [
    "log_sales_brand1_b = intercept_brand1 + coef_brand1 * optimal_retail_price_b\n",
    "sales_volume_brand1_b = np.exp(log_sales_brand1_b)\n",
    "\n",
    "private_label_price_b = optimal_retail_price_b - 0.35 \n",
    "log_sales_private_label_b = intercept_private_label + coef_private_label * average_retail_price_private_label\n",
    "sales_volume_private_label_b = np.exp(log_sales_private_label_b)"
   ]
  },
  {
   "cell_type": "code",
   "execution_count": 55,
   "id": "5945f581",
   "metadata": {},
   "outputs": [
    {
     "data": {
      "text/plain": [
       "{'Scenario a - Brand 1': 255.5469746582062,\n",
       " 'Scenario a - Private Label': 131.3278382910582,\n",
       " 'Scenario b - Brand 1': 61.79103064646879,\n",
       " 'Scenario b - Private Label': 312.5137035521439}"
      ]
     },
     "execution_count": 55,
     "metadata": {},
     "output_type": "execute_result"
    }
   ],
   "source": [
    "sales_volumes = {\n",
    "    \"Scenario a - Brand 1\": sales_volume_brand1_a,\n",
    "    \"Scenario a - Private Label\": sales_volume_private_label_a,\n",
    "    \"Scenario b - Brand 1\": sales_volume_brand1_b,\n",
    "    \"Scenario b - Private Label\": sales_volume_private_label_b\n",
    "}\n",
    "\n",
    "sales_volumes"
   ]
  }
 ],
 "metadata": {
  "kernelspec": {
   "display_name": "Python 3 (ipykernel)",
   "language": "python",
   "name": "python3"
  },
  "language_info": {
   "codemirror_mode": {
    "name": "ipython",
    "version": 3
   },
   "file_extension": ".py",
   "mimetype": "text/x-python",
   "name": "python",
   "nbconvert_exporter": "python",
   "pygments_lexer": "ipython3",
   "version": "3.11.5"
  }
 },
 "nbformat": 4,
 "nbformat_minor": 5
}
